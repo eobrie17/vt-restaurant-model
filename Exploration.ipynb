{
 "cells": [
  {
   "cell_type": "code",
   "execution_count": 62,
   "id": "d01d3d6e",
   "metadata": {},
   "outputs": [
    {
     "name": "stderr",
     "output_type": "stream",
     "text": [
      "[nltk_data] Downloading package stopwords to\n",
      "[nltk_data]     /Users/emmaobrien/nltk_data...\n",
      "[nltk_data]   Package stopwords is already up-to-date!\n"
     ]
    }
   ],
   "source": [
    "import pandas as pd\n",
    "import nltk\n",
    "import numpy as np\n",
    "import matplotlib\n",
    "import matplotlib.pyplot as plt\n",
    "from nltk.corpus import stopwords\n",
    "nltk.download('stopwords')\n",
    "stop = stopwords.words('english')"
   ]
  },
  {
   "cell_type": "code",
   "execution_count": 63,
   "id": "833ed78d",
   "metadata": {},
   "outputs": [
    {
     "data": {
      "text/html": [
       "<div>\n",
       "<style scoped>\n",
       "    .dataframe tbody tr th:only-of-type {\n",
       "        vertical-align: middle;\n",
       "    }\n",
       "\n",
       "    .dataframe tbody tr th {\n",
       "        vertical-align: top;\n",
       "    }\n",
       "\n",
       "    .dataframe thead th {\n",
       "        text-align: right;\n",
       "    }\n",
       "</style>\n",
       "<table border=\"1\" class=\"dataframe\">\n",
       "  <thead>\n",
       "    <tr style=\"text-align: right;\">\n",
       "      <th></th>\n",
       "      <th>Unnamed: 0</th>\n",
       "      <th>Name</th>\n",
       "      <th>Street</th>\n",
       "      <th>Price Tags</th>\n",
       "      <th>Average Rating</th>\n",
       "      <th>Review text</th>\n",
       "      <th>Category 1</th>\n",
       "      <th>Category 2</th>\n",
       "      <th>Customer Satisfaction</th>\n",
       "    </tr>\n",
       "  </thead>\n",
       "  <tbody>\n",
       "    <tr>\n",
       "      <th>0</th>\n",
       "      <td>0</td>\n",
       "      <td>THE FARMHOUSE TAP &amp; GRILL</td>\n",
       "      <td>Bank St</td>\n",
       "      <td>2.0</td>\n",
       "      <td>4.0</td>\n",
       "      <td>julie another wonderful experience farmhouse! ...</td>\n",
       "      <td>burgers</td>\n",
       "      <td>tradamerica</td>\n",
       "      <td>High</td>\n",
       "    </tr>\n",
       "    <tr>\n",
       "      <th>1</th>\n",
       "      <td>1</td>\n",
       "      <td>HEN OF THE WOOD</td>\n",
       "      <td>NaN</td>\n",
       "      <td>3.0</td>\n",
       "      <td>4.5</td>\n",
       "      <td>cozy interior, fresh (we saw farmer drop stack...</td>\n",
       "      <td>newamerican</td>\n",
       "      <td>NaN</td>\n",
       "      <td>High</td>\n",
       "    </tr>\n",
       "    <tr>\n",
       "      <th>2</th>\n",
       "      <td>2</td>\n",
       "      <td>THE GRYPHON</td>\n",
       "      <td>Main St</td>\n",
       "      <td>2.0</td>\n",
       "      <td>4.5</td>\n",
       "      <td>best brunch. bloody mary'#39's die for, love u...</td>\n",
       "      <td>nightlife</td>\n",
       "      <td>newamerican</td>\n",
       "      <td>High</td>\n",
       "    </tr>\n",
       "    <tr>\n",
       "      <th>3</th>\n",
       "      <td>3</td>\n",
       "      <td>JUNIPER BAR &amp; RESTAURANT</td>\n",
       "      <td>Cherry St</td>\n",
       "      <td>2.0</td>\n",
       "      <td>4.0</td>\n",
       "      <td>met family crazy thanksgiving weekend. great p...</td>\n",
       "      <td>tradamerica</td>\n",
       "      <td>NaN</td>\n",
       "      <td>High</td>\n",
       "    </tr>\n",
       "    <tr>\n",
       "      <th>4</th>\n",
       "      <td>4</td>\n",
       "      <td>HONEY ROAD</td>\n",
       "      <td>Church St</td>\n",
       "      <td>2.0</td>\n",
       "      <td>4.5</td>\n",
       "      <td>review mentioned difficult get reservation res...</td>\n",
       "      <td>NaN</td>\n",
       "      <td>NaN</td>\n",
       "      <td>High</td>\n",
       "    </tr>\n",
       "    <tr>\n",
       "      <th>...</th>\n",
       "      <td>...</td>\n",
       "      <td>...</td>\n",
       "      <td>...</td>\n",
       "      <td>...</td>\n",
       "      <td>...</td>\n",
       "      <td>...</td>\n",
       "      <td>...</td>\n",
       "      <td>...</td>\n",
       "      <td>...</td>\n",
       "    </tr>\n",
       "    <tr>\n",
       "      <th>105</th>\n",
       "      <td>105</td>\n",
       "      <td>KRU COFFEE</td>\n",
       "      <td>Church St</td>\n",
       "      <td>1.0</td>\n",
       "      <td>4.5</td>\n",
       "      <td>stopped last day struggling decide grab coffee...</td>\n",
       "      <td>coffee</td>\n",
       "      <td>sandwiche</td>\n",
       "      <td>High</td>\n",
       "    </tr>\n",
       "    <tr>\n",
       "      <th>106</th>\n",
       "      <td>106</td>\n",
       "      <td>HALVORSON’S UPSTREET CAFE</td>\n",
       "      <td>Church St</td>\n",
       "      <td>2.0</td>\n",
       "      <td>3.0</td>\n",
       "      <td>great food. cozy atmosphere. made reservations...</td>\n",
       "      <td>tradamerica</td>\n",
       "      <td>beer_and_wine</td>\n",
       "      <td>Low</td>\n",
       "    </tr>\n",
       "    <tr>\n",
       "      <th>107</th>\n",
       "      <td>107</td>\n",
       "      <td>PIESANOS</td>\n",
       "      <td>Main St</td>\n",
       "      <td>2.0</td>\n",
       "      <td>3.0</td>\n",
       "      <td>1 1/2 hour delivery wait...i get it, it'#39's ...</td>\n",
       "      <td>pizza</td>\n",
       "      <td>italian</td>\n",
       "      <td>Low</td>\n",
       "    </tr>\n",
       "    <tr>\n",
       "      <th>108</th>\n",
       "      <td>108</td>\n",
       "      <td>KESTREL COFFEE ROASTERS</td>\n",
       "      <td>Maple St</td>\n",
       "      <td>NaN</td>\n",
       "      <td>4.5</td>\n",
       "      <td>sweet little roastery free short term streetsi...</td>\n",
       "      <td>cafes</td>\n",
       "      <td>coffee</td>\n",
       "      <td>High</td>\n",
       "    </tr>\n",
       "    <tr>\n",
       "      <th>109</th>\n",
       "      <td>109</td>\n",
       "      <td>NECTAR’S</td>\n",
       "      <td>Main St</td>\n",
       "      <td>2.0</td>\n",
       "      <td>3.0</td>\n",
       "      <td>boyfriend trivia years. first time. great atmo...</td>\n",
       "      <td>burgers</td>\n",
       "      <td>chicken_wings</td>\n",
       "      <td>Low</td>\n",
       "    </tr>\n",
       "  </tbody>\n",
       "</table>\n",
       "<p>110 rows × 9 columns</p>\n",
       "</div>"
      ],
      "text/plain": [
       "     Unnamed: 0                        Name     Street  Price Tags  \\\n",
       "0             0  THE FARMHOUSE TAP & GRILL     Bank St         2.0   \n",
       "1             1            HEN OF THE WOOD         NaN         3.0   \n",
       "2             2                THE GRYPHON     Main St         2.0   \n",
       "3             3   JUNIPER BAR & RESTAURANT   Cherry St         2.0   \n",
       "4             4                 HONEY ROAD   Church St         2.0   \n",
       "..          ...                         ...        ...         ...   \n",
       "105         105                 KRU COFFEE   Church St         1.0   \n",
       "106         106  HALVORSON’S UPSTREET CAFE   Church St         2.0   \n",
       "107         107                   PIESANOS     Main St         2.0   \n",
       "108         108    KESTREL COFFEE ROASTERS    Maple St         NaN   \n",
       "109         109                   NECTAR’S     Main St         2.0   \n",
       "\n",
       "     Average Rating                                        Review text  \\\n",
       "0               4.0  julie another wonderful experience farmhouse! ...   \n",
       "1               4.5  cozy interior, fresh (we saw farmer drop stack...   \n",
       "2               4.5  best brunch. bloody mary'#39's die for, love u...   \n",
       "3               4.0  met family crazy thanksgiving weekend. great p...   \n",
       "4               4.5  review mentioned difficult get reservation res...   \n",
       "..              ...                                                ...   \n",
       "105             4.5  stopped last day struggling decide grab coffee...   \n",
       "106             3.0  great food. cozy atmosphere. made reservations...   \n",
       "107             3.0  1 1/2 hour delivery wait...i get it, it'#39's ...   \n",
       "108             4.5  sweet little roastery free short term streetsi...   \n",
       "109             3.0  boyfriend trivia years. first time. great atmo...   \n",
       "\n",
       "      Category 1     Category 2 Customer Satisfaction  \n",
       "0        burgers    tradamerica                  High  \n",
       "1    newamerican            NaN                  High  \n",
       "2      nightlife    newamerican                  High  \n",
       "3    tradamerica            NaN                  High  \n",
       "4            NaN            NaN                  High  \n",
       "..           ...            ...                   ...  \n",
       "105       coffee      sandwiche                  High  \n",
       "106  tradamerica  beer_and_wine                   Low  \n",
       "107        pizza        italian                   Low  \n",
       "108        cafes         coffee                  High  \n",
       "109      burgers  chicken_wings                   Low  \n",
       "\n",
       "[110 rows x 9 columns]"
      ]
     },
     "execution_count": 63,
     "metadata": {},
     "output_type": "execute_result"
    }
   ],
   "source": [
    "df = pd.read_csv(\"full_cleaned_data.csv\")\n",
    "df"
   ]
  },
  {
   "cell_type": "code",
   "execution_count": 64,
   "id": "501fe74a",
   "metadata": {},
   "outputs": [
    {
     "data": {
      "text/plain": [
       "2.0    53\n",
       "1.0    21\n",
       "3.0     8\n",
       "4.0     1\n",
       "Name: Price Tags, dtype: int64"
      ]
     },
     "execution_count": 64,
     "metadata": {},
     "output_type": "execute_result"
    }
   ],
   "source": [
    "df['Price Tags'].value_counts()"
   ]
  },
  {
   "cell_type": "code",
   "execution_count": 65,
   "id": "2c19d9f9",
   "metadata": {},
   "outputs": [
    {
     "data": {
      "text/plain": [
       "Church St         16\n",
       "Main St            9\n",
       "Pine St            8\n",
       "College St         6\n",
       "N Winooski Ave     6\n",
       "Riverside Ave      4\n",
       "Cherry St          4\n",
       "Saint Paul St      4\n",
       "Battery St         3\n",
       "Pearl St           3\n",
       "Colchester Ave     3\n",
       "Bank St            3\n",
       "North Ave          3\n",
       "Center St          3\n",
       "North St           2\n",
       "Lake St            2\n",
       "Maple St           2\n",
       "Shelburne Rd       2\n",
       "S Union St         1\n",
       "Lawson Ln          1\n",
       "Flynn Ave          1\n",
       "Tracy Dr           1\n",
       "N Ave              1\n",
       "N St               1\n",
       "Oak St             1\n",
       "Institute Rd       1\n",
       "Henry St           1\n",
       "South Union St     1\n",
       "Mechanics Ln       1\n",
       "S Champlain St     1\n",
       "N Champlain St     1\n",
       "Name: Street, dtype: int64"
      ]
     },
     "execution_count": 65,
     "metadata": {},
     "output_type": "execute_result"
    }
   ],
   "source": [
    "df['Street'].value_counts()"
   ]
  },
  {
   "cell_type": "code",
   "execution_count": 66,
   "id": "e75dcb60",
   "metadata": {},
   "outputs": [
    {
     "data": {
      "text/plain": [
       "array([4. , 4.5, 5. , 3.5, 3. , 2.5])"
      ]
     },
     "execution_count": 66,
     "metadata": {},
     "output_type": "execute_result"
    }
   ],
   "source": [
    "df['Average Rating'].unique()"
   ]
  },
  {
   "cell_type": "code",
   "execution_count": 67,
   "id": "091ff496",
   "metadata": {},
   "outputs": [
    {
     "data": {
      "text/plain": [
       "array(['burgers', 'newamerican', 'nightlife', 'tradamerica', nan,\n",
       "       'breakfast_brunch', 'vegetaria', 'indpak', 'pizza', 'italian',\n",
       "       'tha', 'cafes', 'sush', 'sandwiche', 'seafoo', 'delis', 'coffee',\n",
       "       'foodstands', 'cocktailbars', 'himalayan', 'noodles', 'mexican',\n",
       "       'juicebars', 'sala', 'chinese'], dtype=object)"
      ]
     },
     "execution_count": 67,
     "metadata": {},
     "output_type": "execute_result"
    }
   ],
   "source": [
    "df['Category 1'].unique()"
   ]
  },
  {
   "cell_type": "code",
   "execution_count": 68,
   "id": "bce6ffd9",
   "metadata": {},
   "outputs": [],
   "source": [
    "# Clean Reviews \n",
    "df['Review text'] = df['Review text'].str.replace(';', '\\'')\n",
    "df['Review text'] = df['Review text'].str.replace('<br&gt;', '')\n",
    "df['Review text'] = df['Review text'].str.replace('&', '')\n",
    "df['Review text'] = df['Review text'].str.replace('amp;', '')\n",
    "df['Review text'] = df['Review text'].str.replace('  ', ' ')\n",
    "df['Review text'] = df['Review text'].str.replace('#39\\'', ' ')\n",
    "\n",
    "# Make all lowercase\n",
    "df['Review text'] = df['Review text'].apply(str.lower)\n",
    "\n",
    "# Add custom stop words\n",
    "custom_stop_words = ['food', 'burlington', 'would', '-', 'place', 'got', 'also', 'get', 'it\\'', '\\'s', '\\'t', '\\'ve' ]\n",
    "stop = stop + custom_stop_words"
   ]
  },
  {
   "cell_type": "code",
   "execution_count": 69,
   "id": "3a6e4693",
   "metadata": {},
   "outputs": [],
   "source": [
    "# Filter out stop words store in new collumn\n",
    "df['Review_without_stopwords'] = df['Review text'].apply(lambda x: ' '.join([word for word in x.split() if word not in (stop)]))\n",
    "df['Review_without_stopwords']\n",
    "# Get 100 most common words\n",
    "word_freq = pd.Series(' '.join(df['Review_without_stopwords']).lower().split()).value_counts()[:10]"
   ]
  },
  {
   "cell_type": "code",
   "execution_count": 70,
   "id": "7602c010",
   "metadata": {},
   "outputs": [
    {
     "data": {
      "image/png": "[encoded data removed]",
      "text/plain": [
       "<Figure size 640x480 with 1 Axes>"
      ]
     },
     "metadata": {},
     "output_type": "display_data"
    }
   ],
   "source": [
    "# Plot of word frequencies\n",
    "ax = word_freq.plot(kind='barh')\n",
    "ax.set_ylabel(\"Words\")\n",
    "ax.set_xlabel(\"Top 10 Words\")\n",
    "ax.set_title(\"Number of Uses in Reviews\");"
   ]
  },
  {
   "cell_type": "code",
   "execution_count": 71,
   "id": "a10c4055",
   "metadata": {},
   "outputs": [
    {
     "ename": "KeyError",
     "evalue": "'Category'",
     "output_type": "error",
     "traceback": [
      "\u001b[0;31m---------------------------------------------------------------------------\u001b[0m",
      "\u001b[0;31mKeyError\u001b[0m                                  Traceback (most recent call last)",
      "\u001b[0;32m~/opt/anaconda3/lib/python3.9/site-packages/pandas/core/indexes/base.py\u001b[0m in \u001b[0;36mget_loc\u001b[0;34m(self, key, method, tolerance)\u001b[0m\n\u001b[1;32m   3628\u001b[0m             \u001b[0;32mtry\u001b[0m\u001b[0;34m:\u001b[0m\u001b[0;34m\u001b[0m\u001b[0;34m\u001b[0m\u001b[0m\n\u001b[0;32m-> 3629\u001b[0;31m                 \u001b[0;32mreturn\u001b[0m \u001b[0mself\u001b[0m\u001b[0;34m.\u001b[0m\u001b[0m_engine\u001b[0m\u001b[0;34m.\u001b[0m\u001b[0mget_loc\u001b[0m\u001b[0;34m(\u001b[0m\u001b[0mcasted_key\u001b[0m\u001b[0;34m)\u001b[0m\u001b[0;34m\u001b[0m\u001b[0;34m\u001b[0m\u001b[0m\n\u001b[0m\u001b[1;32m   3630\u001b[0m             \u001b[0;32mexcept\u001b[0m \u001b[0mKeyError\u001b[0m \u001b[0;32mas\u001b[0m \u001b[0merr\u001b[0m\u001b[0;34m:\u001b[0m\u001b[0;34m\u001b[0m\u001b[0;34m\u001b[0m\u001b[0m\n",
      "\u001b[0;32m~/opt/anaconda3/lib/python3.9/site-packages/pandas/_libs/index.pyx\u001b[0m in \u001b[0;36mpandas._libs.index.IndexEngine.get_loc\u001b[0;34m()\u001b[0m\n",
      "\u001b[0;32m~/opt/anaconda3/lib/python3.9/site-packages/pandas/_libs/index.pyx\u001b[0m in \u001b[0;36mpandas._libs.index.IndexEngine.get_loc\u001b[0;34m()\u001b[0m\n",
      "\u001b[0;32mpandas/_libs/hashtable_class_helper.pxi\u001b[0m in \u001b[0;36mpandas._libs.hashtable.PyObjectHashTable.get_item\u001b[0;34m()\u001b[0m\n",
      "\u001b[0;32mpandas/_libs/hashtable_class_helper.pxi\u001b[0m in \u001b[0;36mpandas._libs.hashtable.PyObjectHashTable.get_item\u001b[0;34m()\u001b[0m\n",
      "\u001b[0;31mKeyError\u001b[0m: 'Category'",
      "\nThe above exception was the direct cause of the following exception:\n",
      "\u001b[0;31mKeyError\u001b[0m                                  Traceback (most recent call last)",
      "\u001b[0;32m/var/folders/jb/pd8gxjtx533b57mjcd_tqy700000gn/T/ipykernel_11959/1480963293.py\u001b[0m in \u001b[0;36m<module>\u001b[0;34m\u001b[0m\n\u001b[1;32m     12\u001b[0m         \u001b[0mactual_avg_ratings\u001b[0m\u001b[0;34m.\u001b[0m\u001b[0mappend\u001b[0m\u001b[0;34m(\u001b[0m\u001b[0mdf\u001b[0m\u001b[0;34m[\u001b[0m\u001b[0;34m'Average Rating'\u001b[0m\u001b[0;34m]\u001b[0m\u001b[0;34m[\u001b[0m\u001b[0mi\u001b[0m\u001b[0;34m]\u001b[0m\u001b[0;34m)\u001b[0m\u001b[0;34m\u001b[0m\u001b[0;34m\u001b[0m\u001b[0m\n\u001b[1;32m     13\u001b[0m         \u001b[0mactual_streets\u001b[0m\u001b[0;34m.\u001b[0m\u001b[0mappend\u001b[0m\u001b[0;34m(\u001b[0m\u001b[0mdf\u001b[0m\u001b[0;34m[\u001b[0m\u001b[0;34m'Street'\u001b[0m\u001b[0;34m]\u001b[0m\u001b[0;34m[\u001b[0m\u001b[0mi\u001b[0m\u001b[0;34m]\u001b[0m\u001b[0;34m)\u001b[0m\u001b[0;34m\u001b[0m\u001b[0;34m\u001b[0m\u001b[0m\n\u001b[0;32m---> 14\u001b[0;31m         \u001b[0mactual_categories\u001b[0m\u001b[0;34m.\u001b[0m\u001b[0mappend\u001b[0m\u001b[0;34m(\u001b[0m\u001b[0mdf\u001b[0m\u001b[0;34m[\u001b[0m\u001b[0;34m'Category'\u001b[0m\u001b[0;34m]\u001b[0m\u001b[0;34m[\u001b[0m\u001b[0mi\u001b[0m\u001b[0;34m]\u001b[0m\u001b[0;34m)\u001b[0m\u001b[0;34m\u001b[0m\u001b[0;34m\u001b[0m\u001b[0m\n\u001b[0m",
      "\u001b[0;32m~/opt/anaconda3/lib/python3.9/site-packages/pandas/core/frame.py\u001b[0m in \u001b[0;36m__getitem__\u001b[0;34m(self, key)\u001b[0m\n\u001b[1;32m   3503\u001b[0m             \u001b[0;32mif\u001b[0m \u001b[0mself\u001b[0m\u001b[0;34m.\u001b[0m\u001b[0mcolumns\u001b[0m\u001b[0;34m.\u001b[0m\u001b[0mnlevels\u001b[0m \u001b[0;34m>\u001b[0m \u001b[0;36m1\u001b[0m\u001b[0;34m:\u001b[0m\u001b[0;34m\u001b[0m\u001b[0;34m\u001b[0m\u001b[0m\n\u001b[1;32m   3504\u001b[0m                 \u001b[0;32mreturn\u001b[0m \u001b[0mself\u001b[0m\u001b[0;34m.\u001b[0m\u001b[0m_getitem_multilevel\u001b[0m\u001b[0;34m(\u001b[0m\u001b[0mkey\u001b[0m\u001b[0;34m)\u001b[0m\u001b[0;34m\u001b[0m\u001b[0;34m\u001b[0m\u001b[0m\n\u001b[0;32m-> 3505\u001b[0;31m             \u001b[0mindexer\u001b[0m \u001b[0;34m=\u001b[0m \u001b[0mself\u001b[0m\u001b[0;34m.\u001b[0m\u001b[0mcolumns\u001b[0m\u001b[0;34m.\u001b[0m\u001b[0mget_loc\u001b[0m\u001b[0;34m(\u001b[0m\u001b[0mkey\u001b[0m\u001b[0;34m)\u001b[0m\u001b[0;34m\u001b[0m\u001b[0;34m\u001b[0m\u001b[0m\n\u001b[0m\u001b[1;32m   3506\u001b[0m             \u001b[0;32mif\u001b[0m \u001b[0mis_integer\u001b[0m\u001b[0;34m(\u001b[0m\u001b[0mindexer\u001b[0m\u001b[0;34m)\u001b[0m\u001b[0;34m:\u001b[0m\u001b[0;34m\u001b[0m\u001b[0;34m\u001b[0m\u001b[0m\n\u001b[1;32m   3507\u001b[0m                 \u001b[0mindexer\u001b[0m \u001b[0;34m=\u001b[0m \u001b[0;34m[\u001b[0m\u001b[0mindexer\u001b[0m\u001b[0;34m]\u001b[0m\u001b[0;34m\u001b[0m\u001b[0;34m\u001b[0m\u001b[0m\n",
      "\u001b[0;32m~/opt/anaconda3/lib/python3.9/site-packages/pandas/core/indexes/base.py\u001b[0m in \u001b[0;36mget_loc\u001b[0;34m(self, key, method, tolerance)\u001b[0m\n\u001b[1;32m   3629\u001b[0m                 \u001b[0;32mreturn\u001b[0m \u001b[0mself\u001b[0m\u001b[0;34m.\u001b[0m\u001b[0m_engine\u001b[0m\u001b[0;34m.\u001b[0m\u001b[0mget_loc\u001b[0m\u001b[0;34m(\u001b[0m\u001b[0mcasted_key\u001b[0m\u001b[0;34m)\u001b[0m\u001b[0;34m\u001b[0m\u001b[0;34m\u001b[0m\u001b[0m\n\u001b[1;32m   3630\u001b[0m             \u001b[0;32mexcept\u001b[0m \u001b[0mKeyError\u001b[0m \u001b[0;32mas\u001b[0m \u001b[0merr\u001b[0m\u001b[0;34m:\u001b[0m\u001b[0;34m\u001b[0m\u001b[0;34m\u001b[0m\u001b[0m\n\u001b[0;32m-> 3631\u001b[0;31m                 \u001b[0;32mraise\u001b[0m \u001b[0mKeyError\u001b[0m\u001b[0;34m(\u001b[0m\u001b[0mkey\u001b[0m\u001b[0;34m)\u001b[0m \u001b[0;32mfrom\u001b[0m \u001b[0merr\u001b[0m\u001b[0;34m\u001b[0m\u001b[0;34m\u001b[0m\u001b[0m\n\u001b[0m\u001b[1;32m   3632\u001b[0m             \u001b[0;32mexcept\u001b[0m \u001b[0mTypeError\u001b[0m\u001b[0;34m:\u001b[0m\u001b[0;34m\u001b[0m\u001b[0;34m\u001b[0m\u001b[0m\n\u001b[1;32m   3633\u001b[0m                 \u001b[0;31m# If we have a listlike key, _check_indexing_error will raise\u001b[0m\u001b[0;34m\u001b[0m\u001b[0;34m\u001b[0m\u001b[0m\n",
      "\u001b[0;31mKeyError\u001b[0m: 'Category'"
     ]
    }
   ],
   "source": [
    "## Finding the actual value counts of each column \n",
    "#(everything isn't duplicated 30 times for each restaurant)\n",
    "names_seen = []\n",
    "actual_price_tags = []\n",
    "actual_avg_ratings = []\n",
    "actual_streets = []\n",
    "actual_categories = []\n",
    "for i in range(0, len(df['Name'])):\n",
    "    if df['Name'][i] not in names_seen:\n",
    "        names_seen.append(df['Name'][i])\n",
    "        actual_price_tags.append(df['Price Tags'][i])\n",
    "        actual_avg_ratings.append(df['Average Rating'][i])\n",
    "        actual_streets.append(df['Street'][i])\n",
    "        actual_categories.append(df['Category'][i])"
   ]
  },
  {
   "cell_type": "code",
   "execution_count": 72,
   "id": "f941e1df",
   "metadata": {},
   "outputs": [
    {
     "data": {
      "text/plain": [
       "Text(0.5, 1.0, 'Distribution of restaurant ratings in Burlington VT')"
      ]
     },
     "execution_count": 72,
     "metadata": {},
     "output_type": "execute_result"
    },
    {
     "data": {
      "image/png": "[encoded data removed]",
      "text/plain": [
       "<Figure size 640x480 with 1 Axes>"
      ]
     },
     "metadata": {},
     "output_type": "display_data"
    }
   ],
   "source": [
    "#distribution of average restaurant ratings in Burlington\n",
    "#Most restaurants in Burlington have 4.5 or 4 stars. \n",
    "\n",
    "plt.hist(df['Average Rating'])\n",
    "plt.xlabel('Restaurant Ratings') \n",
    "plt.ylabel('Number of Restaurants') \n",
    "  \n",
    "# displaying the title\n",
    "plt.title(\"Distribution of restaurant ratings in Burlington VT\")"
   ]
  },
  {
   "cell_type": "code",
   "execution_count": null,
   "id": "19fc1d82",
   "metadata": {},
   "outputs": [],
   "source": []
  },
  {
   "cell_type": "code",
   "execution_count": 73,
   "id": "656b8ef3",
   "metadata": {
    "scrolled": true
   },
   "outputs": [
    {
     "data": {
      "text/plain": [
       "Text(0.5, 1.0, 'Distribution of how much restaurants charge in Burlington VT')"
      ]
     },
     "execution_count": 73,
     "metadata": {},
     "output_type": "execute_result"
    },
    {
     "data": {
      "image/png": "[encoded data removed]",
      "text/plain": [
       "<Figure size 640x480 with 1 Axes>"
      ]
     },
     "metadata": {},
     "output_type": "display_data"
    }
   ],
   "source": [
    "##PRICE TAGS##\n",
    "\n",
    "#distribution of prices restaurants charge in Burlington\n",
    "#Most restaurants have two price tags ($$) and barely any restaurants charge 4 price tags ($$$$)\n",
    "\n",
    "plt.hist(df['Price Tags'])\n",
    "plt.xlabel('Number of price tags') \n",
    "plt.ylabel('Number of restaurants') \n",
    "  \n",
    "# displaying the title\n",
    "plt.title(\"Distribution of how much restaurants charge in Burlington VT\")"
   ]
  },
  {
   "cell_type": "code",
   "execution_count": 74,
   "id": "7e6867c7",
   "metadata": {
    "scrolled": true
   },
   "outputs": [
    {
     "data": {
      "text/plain": [
       "Text(0, 0.5, 'Average Rating')"
      ]
     },
     "execution_count": 74,
     "metadata": {},
     "output_type": "execute_result"
    },
    {
     "data": {
      "image/png": "[encoded data removed]",
      "text/plain": [
       "<Figure size 640x480 with 1 Axes>"
      ]
     },
     "metadata": {},
     "output_type": "display_data"
    }
   ],
   "source": [
    "# Average Review by Street\n",
    "street_rating_df = pd.DataFrame(\n",
    "    {'Street': df['Street'],\n",
    "     'Rating': df['Average Rating']\n",
    "     \n",
    "    })\n",
    "\n",
    "street_rating_ave = street_rating_df.groupby('Street').mean()\n",
    "street_rating_ave['Restraunts'] = street_rating_df.groupby('Street').count()['Rating']\n",
    "street_rating_ave = street_rating_ave.drop(street_rating_ave[street_rating_ave.Restraunts < 2].index)\n",
    "street_rating_ave = street_rating_ave.drop(street_rating_ave.index[12])\n",
    "\n",
    "ax = street_rating_ave.sort_values(by=['Rating']).plot(y = \"Rating\", kind=\"bar\")\n",
    "ax.set_ylabel(\"Average Rating\")\n"
   ]
  },
  {
   "cell_type": "code",
   "execution_count": 82,
   "id": "51ddae02",
   "metadata": {},
   "outputs": [
    {
     "data": {
      "text/plain": [
       "Text(0, 0.5, 'Average Rating')"
      ]
     },
     "execution_count": 82,
     "metadata": {},
     "output_type": "execute_result"
    },
    {
     "data": {
      "image/png": "[encoded data removed]",
      "text/plain": [
       "<Figure size 640x480 with 1 Axes>"
      ]
     },
     "metadata": {},
     "output_type": "display_data"
    }
   ],
   "source": [
    "#Price and rating\n",
    "price_rating_df = pd.DataFrame(\n",
    "    {'Price': df['Price Tags'],\n",
    "     'Rating': df['Average Rating']\n",
    "     \n",
    "    })\n",
    "price_rating_df = price_rating_df.groupby('Price').mean()\n",
    "\n",
    "\n",
    "ax = price_rating_df.sort_values(by=['Price']).plot(y = \"Rating\", kind=\"bar\")\n",
    "ax.set_ylabel(\"Average Rating\")\n"
   ]
  },
  {
   "cell_type": "code",
   "execution_count": 83,
   "id": "66e3eb55",
   "metadata": {
    "scrolled": true
   },
   "outputs": [
    {
     "data": {
      "text/html": [
       "<div>\n",
       "<style scoped>\n",
       "    .dataframe tbody tr th:only-of-type {\n",
       "        vertical-align: middle;\n",
       "    }\n",
       "\n",
       "    .dataframe tbody tr th {\n",
       "        vertical-align: top;\n",
       "    }\n",
       "\n",
       "    .dataframe thead th {\n",
       "        text-align: right;\n",
       "    }\n",
       "</style>\n",
       "<table border=\"1\" class=\"dataframe\">\n",
       "  <thead>\n",
       "    <tr style=\"text-align: right;\">\n",
       "      <th></th>\n",
       "      <th>Name</th>\n",
       "      <th>Rating</th>\n",
       "    </tr>\n",
       "  </thead>\n",
       "  <tbody>\n",
       "    <tr>\n",
       "      <th>92</th>\n",
       "      <td>THE MOUNTED CAT</td>\n",
       "      <td>2.5</td>\n",
       "    </tr>\n",
       "    <tr>\n",
       "      <th>109</th>\n",
       "      <td>NECTAR’S</td>\n",
       "      <td>3.0</td>\n",
       "    </tr>\n",
       "    <tr>\n",
       "      <th>81</th>\n",
       "      <td>GAKU RAMEN</td>\n",
       "      <td>3.0</td>\n",
       "    </tr>\n",
       "    <tr>\n",
       "      <th>37</th>\n",
       "      <td>RÍ RÁ</td>\n",
       "      <td>3.0</td>\n",
       "    </tr>\n",
       "    <tr>\n",
       "      <th>94</th>\n",
       "      <td>EL GATO CANTINA</td>\n",
       "      <td>3.0</td>\n",
       "    </tr>\n",
       "    <tr>\n",
       "      <th>95</th>\n",
       "      <td>PIZZERIA IDA</td>\n",
       "      <td>3.0</td>\n",
       "    </tr>\n",
       "    <tr>\n",
       "      <th>90</th>\n",
       "      <td>THREE NEEDS TAPROOM &amp; BREWERY</td>\n",
       "      <td>3.0</td>\n",
       "    </tr>\n",
       "    <tr>\n",
       "      <th>47</th>\n",
       "      <td>SPLASH AT THE BOATHOUSE</td>\n",
       "      <td>3.0</td>\n",
       "    </tr>\n",
       "    <tr>\n",
       "      <th>107</th>\n",
       "      <td>PIESANOS</td>\n",
       "      <td>3.0</td>\n",
       "    </tr>\n",
       "    <tr>\n",
       "      <th>106</th>\n",
       "      <td>HALVORSON’S UPSTREET CAFE</td>\n",
       "      <td>3.0</td>\n",
       "    </tr>\n",
       "  </tbody>\n",
       "</table>\n",
       "</div>"
      ],
      "text/plain": [
       "                               Name  Rating\n",
       "92                 THE MOUNTED CAT      2.5\n",
       "109                       NECTAR’S      3.0\n",
       "81                      GAKU RAMEN      3.0\n",
       "37                           RÍ RÁ      3.0\n",
       "94                 EL GATO CANTINA      3.0\n",
       "95                    PIZZERIA IDA      3.0\n",
       "90   THREE NEEDS TAPROOM & BREWERY      3.0\n",
       "47         SPLASH AT THE BOATHOUSE      3.0\n",
       "107                       PIESANOS      3.0\n",
       "106      HALVORSON’S UPSTREET CAFE      3.0"
      ]
     },
     "execution_count": 83,
     "metadata": {},
     "output_type": "execute_result"
    }
   ],
   "source": [
    "#Highest and Lowest Rated in Burlington\n",
    "names = df['Name'].tolist()\n",
    "\n",
    "ave_rating_df = pd.DataFrame(\n",
    "    {'Name': df['Name'],\n",
    "     'Rating': df['Average Rating']\n",
    "     \n",
    "    })\n",
    "\n",
    "ave_rating_df.sort_values(by=['Rating']).head(10)"
   ]
  },
  {
   "cell_type": "code",
   "execution_count": 50,
   "id": "c90be108",
   "metadata": {},
   "outputs": [],
   "source": [
    "def select_columns(data, *columns):\n",
    " \n",
    "    \"\"\"Select only columns passed as arguments.\"\"\"\n",
    "\n",
    "    return data.loc[:, columns]\n",
    "def process_data(data):\n",
    " \n",
    "    # Transform Data, Select Features\n",
    "\n",
    "    data = select_columns(data,'Street','Category', 'Price Tags', 'Average Rating', 'Review')\n",
    "\n",
    "\n",
    "    # Return predictors and response variables separately\n",
    "\n",
    "    X = data.drop(['Average Rating'], axis = 1)\n",
    "    y = data.loc[:, 'Average Rating']\n",
    "\n",
    "\n",
    "    return X, y"
   ]
  },
  {
   "cell_type": "code",
   "execution_count": 89,
   "id": "1eb62cf1",
   "metadata": {},
   "outputs": [],
   "source": [
    "##CUT OF VALUE FOR GOOD/VS BAD RATING == 4.5 STARS (4.5 < is bad)\n",
    "\n",
    "from sklearn.model_selection import train_test_split\n",
    "data = df.copy()\n",
    "data['Customer Satisfaction Level'] = data['Average Rating'].replace([3.0, 3.5, 4.0], 'High')\n",
    "data['Customer Satisfaction Level'] = data['Customer Satisfaction Level'].replace( [4.5, 5], 'Low')\n",
    "\n",
    "full_data = data\n",
    "train, val = train_test_split(data, train_size=.8, random_state=42)\n",
    "\n",
    "X_train, y_train = process_data(train)\n",
    "X_val, y_val = process_data(val)"
   ]
  },
  {
   "cell_type": "code",
   "execution_count": 90,
   "id": "a6ed1fcf",
   "metadata": {},
   "outputs": [],
   "source": [
    "from sklearn.feature_extraction.text import CountVectorizer\n",
    "vectorizer = CountVectorizer(stop_words=stop,max_features=100) # SOLUTION NO PROMPT\n",
    "X_train = vectorizer.fit_transform(train[\"Review\"]) # SOLUTION\n",
    "Y_train = train[\"Overall\"] # SOLUTION\n",
    "train_vocab = vectorizer.get_feature_names_out() # SOLUTION"
   ]
  },
  {
   "cell_type": "code",
   "execution_count": 91,
   "id": "a4a79a3d",
   "metadata": {},
   "outputs": [
    {
     "name": "stdout",
     "output_type": "stream",
     "text": [
      "Training Accuracy:  0.6411327762302693\n"
     ]
    }
   ],
   "source": [
    "from sklearn.linear_model import LogisticRegression\n",
    "model = LogisticRegression(random_state=1000) # SOLUTION\n",
    "model.fit(X_train,Y_train) # SOLUTION NO PROMPT\n",
    "training_accuracy = model.score(X_train,Y_train) # SOLUTION\n",
    "print(\"Training Accuracy: \", training_accuracy)"
   ]
  },
  {
   "cell_type": "code",
   "execution_count": 92,
   "id": "1f08a289",
   "metadata": {},
   "outputs": [
    {
     "name": "stdout",
     "output_type": "stream",
     "text": [
      "Validation Accuracy:  0.5992578849721707\n"
     ]
    }
   ],
   "source": [
    "val_vectorizer = CountVectorizer(vocabulary=train_vocab) # SOLUTION\n",
    "X_val = val_vectorizer.fit_transform(val[\"Review\"]) # SOLUTION\n",
    "Y_val = val[\"Overall\"] # SOLUTION\n",
    "val_accuracy = model.score(X_val,Y_val) # SOLUTION\n",
    "print(\"Validation Accuracy: \", val_accuracy)"
   ]
  },
  {
   "cell_type": "code",
   "execution_count": 93,
   "id": "03b33abb",
   "metadata": {},
   "outputs": [
    {
     "name": "stdout",
     "output_type": "stream",
     "text": [
      "   feature      coef\n",
      "98   worth -0.424438\n",
      "59   never -0.372470\n",
      "68   pizza -0.345116\n",
      "20  coffee -0.296218\n",
      "50    like -0.293515\n",
      "..     ...       ...\n",
      "81   small  0.343315\n",
      "55    many  0.363374\n",
      "74    rice  0.366918\n",
      "86   sweet  0.444405\n",
      "39   fresh  0.480912\n",
      "\n",
      "[100 rows x 2 columns]\n"
     ]
    }
   ],
   "source": [
    "df_coefs = pd.DataFrame()\n",
    "df_coefs[\"feature\"] = train_vocab\n",
    "df_coefs[\"coef\"] = model.coef_[0]\n",
    "df_coefs.sort_values('coef',inplace=True)\n",
    "print(df_coefs)"
   ]
  },
  {
   "cell_type": "code",
   "execution_count": 94,
   "id": "4df0fa9e",
   "metadata": {},
   "outputs": [
    {
     "name": "stdout",
     "output_type": "stream",
     "text": [
      "Words most associated with good ratings: ['hot' 'right' 'everything' 'try' 'also' 'small' 'many' 'rice' 'sweet'\n",
      " 'fresh']\n",
      "Words most associated with bad ratings: ['worth' 'never' 'pizza' 'coffee' 'like' 'better' 'vermont' 'come'\n",
      " 'drinks' 'back']\n"
     ]
    }
   ],
   "source": [
    "top_10_spam = df_coefs['feature'].values[-10:] # SOLUTION\n",
    "top_10_ham = df_coefs['feature'].values[:10] # SOLUTION\n",
    "print(\"Words most associated with good ratings:\",top_10_spam)\n",
    "print(\"Words most associated with bad ratings:\",top_10_ham)"
   ]
  },
  {
   "cell_type": "code",
   "execution_count": 96,
   "id": "88a15b1d",
   "metadata": {},
   "outputs": [
    {
     "name": "stderr",
     "output_type": "stream",
     "text": [
      "/Users/emmaobrien/opt/anaconda3/lib/python3.9/site-packages/sklearn/utils/deprecation.py:87: FutureWarning: Function plot_confusion_matrix is deprecated; Function `plot_confusion_matrix` is deprecated in 1.0 and will be removed in 1.2. Use one of the class methods: ConfusionMatrixDisplay.from_predictions or ConfusionMatrixDisplay.from_estimator.\n",
      "  warnings.warn(msg, category=FutureWarning)\n"
     ]
    },
    {
     "data": {
      "image/png": "[encoded data removed]",
      "text/plain": [
       "<Figure size 640x480 with 2 Axes>"
      ]
     },
     "metadata": {},
     "output_type": "display_data"
    }
   ],
   "source": [
    "from sklearn.metrics import plot_confusion_matrix # SOLUTION\n",
    "display = plot_confusion_matrix(model, X_val, Y_val) # SOLUTION"
   ]
  },
  {
   "cell_type": "code",
   "execution_count": null,
   "id": "3db2b9c4",
   "metadata": {},
   "outputs": [],
   "source": []
  }
 ],
 "metadata": {
  "kernelspec": {
   "display_name": "Python 3 (ipykernel)",
   "language": "python",
   "name": "python3"
  },
  "language_info": {
   "codemirror_mode": {
    "name": "ipython",
    "version": 3
   },
   "file_extension": ".py",
   "mimetype": "text/x-python",
   "name": "python",
   "nbconvert_exporter": "python",
   "pygments_lexer": "ipython3",
   "version": "3.9.13"
  }
 },
 "nbformat": 4,
 "nbformat_minor": 5
}
